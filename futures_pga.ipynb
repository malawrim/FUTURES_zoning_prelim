{
 "cells": [
  {
   "cell_type": "markdown",
   "metadata": {},
   "source": [
    "## FUTURES Simulation  \n",
    "\n",
    "#### The Patch Growth Algorithm PGA ([r.futures.pga](https://grass.osgeo.org/grass82/manuals/addons/r.futures.pga.html)) simulates developed land changes based on development potential and land demand. Development potential is updated at each step in the iteration which updates development potential for the next step.\n",
    "\n",
    "#### This notebook is used to compute FUTURES simulations under three scenarios set in the POTENTIAL submodel (see futures_potential.ipynb):\n",
    "- inclusion classic predictors of development (including land cover data, slope, location of roads)\n",
    "- inclusion of classic predictors and core-district zoning\n",
    "- inclusion of classic predictors and sub-district zoning\n",
    "\n",
    "###### Usage note: this script relies on outputs from futures_preprocessing.ipynb, futures_potential.ipynb, and futures_demand.ipynb\n"
   ]
  },
  {
   "cell_type": "markdown",
   "metadata": {},
   "source": [
    "Initialize GRASS notebook and add required extensions"
   ]
  },
  {
   "cell_type": "code",
   "execution_count": 2,
   "metadata": {},
   "outputs": [
    {
     "data": {
      "text/plain": [
       "<grass.jupyter.setup._JupyterGlobalSession at 0x21d3a5a4f70>"
      ]
     },
     "execution_count": 2,
     "metadata": {},
     "output_type": "execute_result"
    }
   ],
   "source": [
    "# Set up GRASS environment\n",
    "import os\n",
    "import csv\n",
    "from IPython.display import Image\n",
    "from helper import show_interactively, show\n",
    "import grass.script as gs\n",
    "# had to add shell = True to helper.py for this to work\n",
    "from helper import initialize_GRASS_notebook\n",
    "initialize_GRASS_notebook(binary='grass83',\n",
    "                          grassdata=\"D:\\\\grassdata\", location=\"FUTURES_zoning_prelim\",\n",
    "                          mapset=\"input\")"
   ]
  },
  {
   "cell_type": "markdown",
   "metadata": {},
   "source": [
    "Set GRASS region and mask to the Central Pines Regional Council"
   ]
  },
  {
   "cell_type": "code",
   "execution_count": 3,
   "metadata": {},
   "outputs": [
    {
     "name": "stderr",
     "output_type": "stream",
     "text": [
      "WARNING: MASK already exists and will be overwritten\n",
      "All subsequent raster operations will be limited to the MASK area. Removing\n",
      "or renaming raster map named 'MASK' will restore raster operations to\n",
      "normal.\n"
     ]
    }
   ],
   "source": [
    "!g.region vector=central_pines_regional_council@input res=30\n",
    "!r.mask raster=sa_counties@input"
   ]
  },
  {
   "cell_type": "markdown",
   "metadata": {},
   "source": [
    "Helper function used to save predictors selected by the POTENTIAL model"
   ]
  },
  {
   "cell_type": "code",
   "execution_count": 2,
   "metadata": {},
   "outputs": [],
   "source": [
    "def get_pred(file_name):\n",
    "    file = open(file_name)\n",
    "    csvreader = csv.reader(file)\n",
    "    pred = []\n",
    "    # remove first three columns because they are always ID, Intercept, and devpressure\n",
    "    pred = next(csvreader)[3:]\n",
    "    file.close()\n",
    "    return pred"
   ]
  },
  {
   "cell_type": "markdown",
   "metadata": {},
   "source": [
    "Set common variables to be used throughout the Notebook"
   ]
  },
  {
   "cell_type": "code",
   "execution_count": 17,
   "metadata": {},
   "outputs": [],
   "source": [
    "train_years = [2001, 2004, 2006, 2008, 2011]\n",
    "validate_years = [2013, 2016, 2019, 2021]\n",
    "\n",
    "# subregions\n",
    "subregion = 'sa_counties@input'\n",
    "dev_start = 'urban_2001@input'\n",
    "dev_end = 'urban_2011@input'\n",
    "dev_pressure='devpressure_2011@input'\n",
    "# number of years to simulate after 2011\n",
    "num_year = 10\n",
    "\n",
    "# range of calibration values to test\n",
    "discount_factor = [0.2, 0.5, 0.8]\n",
    "compactness_mean = [0.3, 0.5, 0.8]\n",
    "compactness_range = [0.05, 0.2]\n",
    "\n",
    "# number of processors\n",
    "nprocs = 5"
   ]
  },
  {
   "cell_type": "markdown",
   "metadata": {},
   "source": [
    "### Calibration\n",
    "\n",
    "Compute FUTURES patch calibration ([r.futures.calib](https://grass.osgeo.org/grass82/manuals/addons/r.futures.calib.html)) to select best patch size and compactness values for computing futures simulations.  \n",
    "\n",
    "- discount_factor is used to alter simulated patch size to match observed patterns\n",
    "- compactness_mean and compactness_range are used to match the distribution of observed compactness"
   ]
  },
  {
   "cell_type": "code",
   "execution_count": 6,
   "metadata": {},
   "outputs": [],
   "source": [
    "def calibrate(potential, demand, calib, patches, rep):\n",
    "    predictors = '@input,'.join(get_pred(potential))\n",
    "    gs.run_command('r.futures.calib', development_start=dev_start, development_end=dev_end, num_steps=num_year,\n",
    "                subregions=subregion, patch_sizes=patches, patch_threshold=1800, flags='s',\n",
    "                repeat=rep, calibration_results=calib, nprocs=nprocs,\n",
    "                predictors=predictors,\n",
    "                devpot_params=potential, development_pressure=dev_pressure,\n",
    "                n_dev_neighbourhood=37, development_pressure_approach='gravity', gamma=0.5, scaling_factor=0.1,\n",
    "                demand=demand, discount_factor=discount_factor, compactness_mean=compactness_mean,\n",
    "                compactness_range=compactness_range, num_neighbors=4, seed_search='probability', random_seed=1, overwrite=True)"
   ]
  },
  {
   "cell_type": "markdown",
   "metadata": {},
   "source": [
    "Calibrate patch compactness and size values based on baseline potential parameters (no zoning)"
   ]
  },
  {
   "cell_type": "markdown",
   "metadata": {},
   "source": [
    "###### Another method could be to calibrate for each group of potential parameters (no zoning, core district zoning, sub-district zoning) but for comparability between runs I kept compactness and patch values the same."
   ]
  },
  {
   "cell_type": "code",
   "execution_count": 6,
   "metadata": {},
   "outputs": [],
   "source": [
    "calibrate('results\\\\potential.csv', 'results\\\\demand.csv', 'results\\\\calib.csv', 'results\\\\patches.csv', 5)"
   ]
  },
  {
   "cell_type": "markdown",
   "metadata": {},
   "source": [
    "### Run FUTURES Simulation\n",
    "\n",
    "To compute FUTURES simulation, I used [r.futures.parallelpga](https://grass.osgeo.org/grass82/manuals/addons/r.futures.parallelpga.html) in order to compute in parallel (speed up runtime). Alternatively, I could have followed the method outlined [here ](https://github.com/ncsu-geoforall-lab/grass-workshop-gis-week-2023/blob/main/02_FUTURES_case_study.ipynb) and used [r.futures.simulation](https://grass.osgeo.org/grass82/manuals/addons/r.futures.simulation.html) and computed simulations for each county individually. However, given my small study area I choose to simulate across all counties to limit edge effects."
   ]
  },
  {
   "cell_type": "markdown",
   "metadata": {},
   "source": [
    "Create python file used to run FUTURE simulation when given GRASS mapset and output from the POTENTIAL submodel.  \n",
    "\n",
    "###### Note: creating python file to run simulation because of bug/unknown error when running in Jupyter Notebook"
   ]
  },
  {
   "cell_type": "code",
   "execution_count": 91,
   "metadata": {},
   "outputs": [
    {
     "name": "stdout",
     "output_type": "stream",
     "text": [
      "Overwriting simulation.py\n"
     ]
    }
   ],
   "source": [
    "%%writefile simulation.py\n",
    "import sys\n",
    "import grass.script as gs\n",
    "import csv\n",
    "\n",
    "mapset, potential = sys.argv[1:3]\n",
    "gs.run_command(\"g.mapset\", mapset=mapset, flags='c')\n",
    "gs.run_command(\"g.mapsets\", mapset=\"input\", operation=\"add\")\n",
    "gs.run_command(\"g.region\", vector=\"central_pines_regional_council@input\", res=30)\n",
    "gs.run_command(\"r.mask\", raster=\"sa_counties@input\", overwrite=True)\n",
    "calib = \"C:\\\\Users\\\\malawrim\\\\Documents\\\\GitHub\\\\FUTURES_zoning_prelim\\\\results\\\\calib.csv\"\n",
    "with open(calib) as f:\n",
    "    factor, comp_mean, comp_range = f.readlines()[1].split(',')[:3]\n",
    "\n",
    "def get_pred(file_name):\n",
    "    file = open(file_name)\n",
    "    csvreader = csv.reader(file)\n",
    "    pred = []\n",
    "    # remove first three columns because they are always ID, Intercept, and devpressure\n",
    "    pred = next(csvreader)[3:]\n",
    "    file.close()\n",
    "    return pred\n",
    "\n",
    "predictors = get_pred(potential)\n",
    "\n",
    "gs.run_command(\n",
    "    \"r.futures.parallelpga\",\n",
    "    subregions='sa_counties@input',\n",
    "    developed='urban_2011@input',\n",
    "    num_steps=10,\n",
    "    predictors=predictors,\n",
    "    devpot_params=potential,\n",
    "    development_pressure='devpressure_2011@input',\n",
    "    n_dev_neighbourhood=37,\n",
    "    development_pressure_approach='gravity',\n",
    "    gamma=0.5,\n",
    "    scaling_factor=0.1,\n",
    "    demand=\"C:\\\\Users\\\\malawrim\\\\Documents\\\\GitHub\\\\FUTURES_zoning_prelim\\\\results\\\\demand.csv\",\n",
    "    discount_factor=disc_factor,\n",
    "    compactness_mean=comp_mean,\n",
    "    compactness_range=comp_range,\n",
    "    patch_sizes=\"C:\\\\Users\\\\malawrim\\\\Documents\\\\GitHub\\\\FUTURES_zoning_prelim\\\\results\\\\patches.csv\",\n",
    "    num_neighbors=4,\n",
    "    seed_search='probability',\n",
    "    random_seed=42,\n",
    "    output='test_final',\n",
    "    output_series='test_step',\n",
    "    nprocs=2,\n",
    "    repeat=2,\n",
    "    overwrite=True)\n",
    "gs.run_command(\"r.mask\", flags=\"r\")"
   ]
  },
  {
   "cell_type": "markdown",
   "metadata": {},
   "source": [
    "### Compute simulations for each POTENTIAL scenario (no zoning, core district zoning, and sub-district zoning)"
   ]
  },
  {
   "cell_type": "code",
   "execution_count": 90,
   "metadata": {},
   "outputs": [],
   "source": [
    "mapset = 'base'\n",
    "# should be \"C:\\\\Users\\\\malawrim\\\\Documents\\\\GitHub\\\\FUTURES_zoning_prelim\\\\results\\\\potential.csv\"\n",
    "potential = os.path.join(os.getcwd(), \"results\\\\potential.csv\")\n",
    "!python simulation.py {mapset} {potential}"
   ]
  },
  {
   "cell_type": "code",
   "execution_count": 92,
   "metadata": {},
   "outputs": [
    {
     "name": "stderr",
     "output_type": "stream",
     "text": [
      "WARNING: <test_pga> is already the current mapset\n",
      "Mapset <input> already in the path\n",
      "Search path not modified\n",
      "All subsequent raster operations will be limited to the MASK area. Removing\n",
      "or renaming raster map named 'MASK' will restore raster operations to\n",
      "normal.\n",
      "Running simulation 2/2\n",
      "Running simulation 1/2\n",
      "Read random seed from random_seed option: 2\n",
      "   0   6  12  18  24  30  36  42  48  54  60  66  72  78  84  90  96 100\n",
      "Raster map <test_step_run2_01> created\n",
      "Raster map <test_step_run2_02> created\n",
      "Raster map <test_step_run2_03> created\n",
      "Raster map <test_step_run2_04> created\n",
      "Raster map <test_step_run2_05> created\n",
      "Raster map <test_step_run2_06> created\n",
      "Raster map <test_step_run2_07> created\n",
      "Raster map <test_step_run2_08> created\n",
      "Raster map <test_step_run2_09> created\n",
      "Raster map <test_step_run2_10> created\n",
      "Raster map <test_final_run2> created\n",
      "Read random seed from random_seed option: 1\n",
      "   0   6  12  18  24  30  36  42  48  54  60  66  72  78  84  90  96 100\n",
      "Raster map <test_step_run1_01> created\n",
      "Raster map <test_step_run1_02> created\n",
      "Raster map <test_step_run1_03> created\n",
      "Raster map <test_step_run1_04> created\n",
      "Raster map <test_step_run1_05> created\n",
      "Raster map <test_step_run1_06> created\n",
      "Raster map <test_step_run1_07> created\n",
      "Raster map <test_step_run1_08> created\n",
      "Raster map <test_step_run1_09> created\n",
      "WARNING: Not enough undeveloped cells in region 105 (requested: 16965791,\n",
      "         available: 591457). Converting all available.\n",
      "WARNING: Too many failed attempts to find a seed for region 105, won't be\n",
      "         able to develop 494959 cells.\n",
      "Raster map <test_step_run1_10> created\n",
      "Raster map <test_final_run1> created\n",
      "Raster MASK removed\n"
     ]
    }
   ],
   "source": [
    "mapset = 'core'\n",
    "potential = os.path.join(os.getcwd(), \"results\\\\potential_core.csv\")\n",
    "!python simulation.py {mapset} {potential}"
   ]
  },
  {
   "cell_type": "code",
   "execution_count": null,
   "metadata": {},
   "outputs": [],
   "source": [
    "mapset = 'sub'\n",
    "potential = os.path.join(os.getcwd(), \"results\\\\potential_sub.csv\")\n",
    "!python simulation.py {mapset} {potential}"
   ]
  },
  {
   "cell_type": "markdown",
   "metadata": {},
   "source": [
    "### FUTURES Results  \n",
    "\n",
    "After successfully running FUTURES simulations, generate accuracy results and development probability rasters"
   ]
  },
  {
   "cell_type": "markdown",
   "metadata": {},
   "source": [
    "Create a file used to reclassify development results"
   ]
  },
  {
   "cell_type": "code",
   "execution_count": null,
   "metadata": {},
   "outputs": [],
   "source": [
    "%%writefile reclass.txt\n",
    "-1 0 = 0\n",
    "1 thru 100 = 1\n",
    "* = 0"
   ]
  },
  {
   "cell_type": "markdown",
   "metadata": {},
   "source": [
    "Import functions from validation.py (adapted from [r.futures.validation](https://grass.osgeo.org/grass82/manuals/addons/r.futures.validation.html) written by Anna Petrasova)"
   ]
  },
  {
   "cell_type": "code",
   "execution_count": 95,
   "metadata": {},
   "outputs": [],
   "source": [
    "import validation\n",
    "import json\n",
    "import pickle"
   ]
  },
  {
   "cell_type": "markdown",
   "metadata": {},
   "source": [
    "Compute validation metrics including hits, misses, quantity and allocation disagreement "
   ]
  },
  {
   "cell_type": "code",
   "execution_count": 102,
   "metadata": {},
   "outputs": [],
   "source": [
    "def calc_results(mapset, file):\n",
    "    # to get hits, misses, etc.\n",
    "    metrics = []\n",
    "    !g.mapset mapset={mapset}\n",
    "    n = 50\n",
    "    # validation.compute replaces gs.read_command('r.futures.validation', simulated=f'final_run{i}_reclass', reference='urban_2021@input', original='urban_2001@input', format='json'))\n",
    "    for i in range(1, n + 1):\n",
    "        !r.reclass input=final_run{i} output=final_run{i}_reclass rules=reclass.txt --o\n",
    "        cats, results = validation.compute('urban_2021@input', f'final_run{i}_reclass', 'urban_2001@input')\n",
    "        # **results passes the key-value pairs from results dictionary as named arguments to the function print_results\n",
    "        # very cool\n",
    "        metrics.append(validation.print_results('json', cats, **results))\n",
    "    # get probabilty raster for 2021\n",
    "    # removed ,weights=[0.02] * 50,\n",
    "    gs.run_command(\n",
    "        \"r.series\",\n",
    "        input=[f\"final_run{seed}_reclass\" for seed in range(1, 51)],\n",
    "        output=\"probability\",\n",
    "        method=\"sum\"\n",
    "    )\n",
    "    with open(file, \"wb\") as pf:\n",
    "    pickle.dump(metrics, pf)"
   ]
  },
  {
   "cell_type": "markdown",
   "metadata": {},
   "source": [
    "Calculate results for each POTENTIAL scenario"
   ]
  },
  {
   "cell_type": "code",
   "execution_count": 103,
   "metadata": {},
   "outputs": [
    {
     "name": "stderr",
     "output_type": "stream",
     "text": [
      "WARNING: Concurrent mapset locking is not supported on Windows\n",
      "Mapset switched. Your shell continues to use the history for the old mapset\n"
     ]
    }
   ],
   "source": [
    "calc_results('sub', \"metrics_sub\")\n",
    "calc_results('core', \"metrics_core\")\n",
    "calc_results('base', \"metrics_base\")"
   ]
  },
  {
   "cell_type": "markdown",
   "metadata": {},
   "source": [
    "Run this section if you want to reclassify each year (step of simulation) to a binary (developed/not developed) raster and create probability of development raster for each year in the simulation"
   ]
  },
  {
   "cell_type": "code",
   "execution_count": null,
   "metadata": {},
   "outputs": [],
   "source": [
    "# Only use if I want to reclass each year (step) to a binary\n",
    "for step in range(1,11):\n",
    "    for seed in range(1, 51):\n",
    "        gs.run_command(\n",
    "            \"r.reclass\",\n",
    "            input=f\"step_run{seed}_{step}\",\n",
    "            output=f\"step_run{seed}_{step}_reclass\",\n",
    "            rules=\"reclass.txt\",\n",
    "        )\n",
    "    # compute probabilty of development for each year\n",
    "    gs.run_command(\n",
    "        \"r.series\",\n",
    "        input=[f\"step_run{seed}_{step}_binary\" for seed in range(1, 51)],\n",
    "        output=\"probability\",\n",
    "        method=\"sum\",\n",
    "        weights=[0.1] * 10,\n",
    "        nprocs=2,\n",
    "    )"
   ]
  },
  {
   "cell_type": "markdown",
   "metadata": {},
   "source": [
    "Patch calibration if you were to calibrate by zoning district"
   ]
  },
  {
   "cell_type": "code",
   "execution_count": null,
   "metadata": {},
   "outputs": [],
   "source": [
    "#TODO calibrate by zones to see how/if patches differ"
   ]
  }
 ],
 "metadata": {
  "kernelspec": {
   "display_name": "Python 3 (ipykernel)",
   "language": "python",
   "name": "python3"
  }
 },
 "nbformat": 4,
 "nbformat_minor": 2
}
