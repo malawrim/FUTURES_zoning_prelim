{
 "cells": [
  {
   "cell_type": "code",
   "execution_count": null,
   "metadata": {},
   "outputs": [],
   "source": [
    "# Set up GRASS environment\n",
    "import os\n",
    "import csv\n",
    "from IPython.display import Image\n",
    "from helper import show_interactively, show\n",
    "import grass.script as gs\n",
    "# had to add shell = True to helper.py for this to work\n",
    "from helper import initialize_GRASS_notebook\n",
    "initialize_GRASS_notebook(binary='grass83',\n",
    "                          grassdata=\"D:\\\\grassdata\", location=\"FUTURES_zoning_prelim\",\n",
    "                          mapset=\"input\")"
   ]
  },
  {
   "cell_type": "code",
   "execution_count": null,
   "metadata": {},
   "outputs": [],
   "source": [
    "def get_pred(file_name):\n",
    "  file = open(file_name)\n",
    "  csvreader = csv.reader(file)\n",
    "  pred = []\n",
    "  # remove first three columns because they are always ID, Intercept, and devpressure\n",
    "  pred = next(csvreader)[3:]\n",
    "  file.close()\n",
    "  return pred"
   ]
  },
  {
   "cell_type": "code",
   "execution_count": null,
   "metadata": {},
   "outputs": [],
   "source": [
    "train_years = [2001, 2004, 2006, 2008, 2011]\n",
    "validate_years = [2013, 2016, 2019, 2021]\n",
    "\n",
    "# subregions\n",
    "subregion = 'sa_counties'\n",
    "dev_start = 'urban_2001'\n",
    "dev_end = 'urban_2011'\n",
    "\n",
    "discount_factor = [0.1]\n",
    "compactness_mean = [0, 0.2, 0.4]\n",
    "compactness_range = [0.1]\n",
    "\n",
    "# number of CPUs\n",
    "nprocs = 7"
   ]
  },
  {
   "cell_type": "code",
   "execution_count": null,
   "metadata": {},
   "outputs": [],
   "source": [
    "def calibrate(potential, demand, calib, patches, rep):\n",
    "  predictors = get_pred(potential)\n",
    "  gs.run_command('r.futures.calib', development_start=dev_start, development_end=dev_end,\n",
    "               subregions=subregion, patch_sizes=patches, patch_threshold=1800, flags='s',\n",
    "               repeat=rep, calibration_results=calib, nprocs=nprocs,\n",
    "               predictors=predictors,\n",
    "               devpot_params=potential, development_pressure='devpressure_30_05_01_2011',\n",
    "               n_dev_neighbourhood=37, development_pressure_approach='gravity', gamma=0.5, scaling_factor=0.1,\n",
    "               demand=demand, discount_factor=discount_factor, compactness_mean=compactness_mean,\n",
    "               compactness_range=compactness_range, num_neighbors=4, seed_search='probability', random_seed=1, overwrite=True)"
   ]
  },
  {
   "cell_type": "markdown",
   "metadata": {},
   "source": [
    "calibrate depending on parameters"
   ]
  },
  {
   "cell_type": "code",
   "execution_count": null,
   "metadata": {},
   "outputs": [],
   "source": [
    "#TODO do I need to re-calibrate for each variation of potential?"
   ]
  },
  {
   "cell_type": "code",
   "execution_count": null,
   "metadata": {},
   "outputs": [],
   "source": [
    "# no zoning\n",
    "calibrate('potential.csv', 'demand.csv', 'calib.csv', 'patches.csv', 50)\n",
    "# core zoning\n",
    "calibrate('potential_core.csv', 'demand.csv', 'calib_core.csv', 'patches_core.csv', 50)\n",
    "# sub zoning\n",
    "calibrate('potential_sub.csv', 'demand.csv', 'calib_sub.csv', 'patches_sub.csv', 50)\n",
    "# all parameters\n",
    "calibrate('potential_all.csv', 'demand.csv', 'calib_all.csv', 'patches_all.csv', 50)"
   ]
  },
  {
   "cell_type": "markdown",
   "metadata": {},
   "source": [
    "Run Simulation"
   ]
  },
  {
   "cell_type": "code",
   "execution_count": null,
   "metadata": {},
   "outputs": [],
   "source": [
    "def simulation(potential, demand, calib, patches, rep):\n",
    "  with open(calib) as f:\n",
    "    disc_factor, comp_mean, comp_range = f.readlines()[1].split(',')[:3]\n",
    "  predictors = get_pred(potential)\n",
    "  gs.run_command('r.futures.parallelpga', subregions=subregion, developed=dev_end,\n",
    "                predictors=predictors,\n",
    "                devpot_params=potential, development_pressure='devpressure_30_05_01_2011',\n",
    "                n_dev_neighbourhood=30, development_pressure_approach='gravity', gamma=0.5, scaling_factor=0.1,\n",
    "                demand=demand, discount_factor=disc_factor, compactness_mean=comp_mean, compactness_range=comp_range,\n",
    "                patch_sizes=patches, num_neighbors=4, seed_search='probability', random_seed=42,\n",
    "                output='final', output_series='step', nrpocs=nprocs, repeat=rep)"
   ]
  },
  {
   "cell_type": "code",
   "execution_count": null,
   "metadata": {},
   "outputs": [],
   "source": [
    "simulation('potential.csv', 'demand.csv', 'calib.csv', 'patches.csv', 50)\n",
    "simulation('potential_core.csv', 'demand.csv', 'calib_core.csv', 'patches_core.csv', 50)\n",
    "simulation('potential_sub.csv', 'demand.csv', 'calib_sub.csv', 'patches_sub.csv', 50)\n",
    "simulation('potential_all.csv', 'demand.csv', 'calib_all.csv', 'patches_all.csv', 50)"
   ]
  },
  {
   "cell_type": "code",
   "execution_count": null,
   "metadata": {},
   "outputs": [],
   "source": [
    "#TODO look at Anna's GitHub from GIS Week GRASS computing workshop"
   ]
  },
  {
   "cell_type": "markdown",
   "metadata": {},
   "source": [
    "Patch calibration if you were to calibrate by zoning district"
   ]
  },
  {
   "cell_type": "code",
   "execution_count": null,
   "metadata": {},
   "outputs": [],
   "source": [
    "#TODO calibrate by zones to see how/if patches differ"
   ]
  }
 ],
 "metadata": {
  "language_info": {
   "name": "python"
  }
 },
 "nbformat": 4,
 "nbformat_minor": 2
}
