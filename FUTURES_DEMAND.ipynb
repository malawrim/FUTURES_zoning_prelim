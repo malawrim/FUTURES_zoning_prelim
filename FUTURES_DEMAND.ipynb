{
 "cells": [
  {
   "cell_type": "code",
   "execution_count": null,
   "metadata": {},
   "outputs": [],
   "source": [
    "# Set up GRASS environment\n",
    "import os\n",
    "from IPython.display import Image\n",
    "from helper import show_interactively, show\n",
    "import grass.script as gs\n",
    "# had to add shell = True to helper.py for this to work\n",
    "from helper import initialize_GRASS_notebook\n",
    "initialize_GRASS_notebook(binary='grass83',\n",
    "                          grassdata=\"D:\\\\grassdata\", location=\"FUTURES_zoning_prelim\",\n",
    "                          mapset=\"input\")"
   ]
  },
  {
   "cell_type": "code",
   "execution_count": null,
   "metadata": {},
   "outputs": [],
   "source": [
    "# road raster was made with mask so should be limited to the 6 county extent\n",
    "!r.mask raster=roads@input maskcats=0"
   ]
  },
  {
   "cell_type": "code",
   "execution_count": null,
   "metadata": {},
   "outputs": [],
   "source": [
    "years = ','.join([str(i) for i in range(2012, 2021)])\n",
    "years"
   ]
  },
  {
   "cell_type": "code",
   "execution_count": null,
   "metadata": {},
   "outputs": [],
   "source": [
    "gs.run_command('r.futures.demand', development='urban_2001,urban_2004,urban_2006,urban_2008,urban_2011',\n",
    "               subregions='sa_counties', observed_population='D:\\Zoning_Development\\input_data\\population_trend.csv',\n",
    "               projected_population='D:\\Zoning_Development\\input_data\\population_projection.csv',\n",
    "               simulation_times=years, plot='plot_demand.png', demand='demand.csv',\n",
    "               separator='comma', method='logarithmic')"
   ]
  },
  {
   "cell_type": "code",
   "execution_count": null,
   "metadata": {},
   "outputs": [],
   "source": [
    "Image('plot_demand.png')"
   ]
  }
 ],
 "metadata": {
  "language_info": {
   "name": "python"
  }
 },
 "nbformat": 4,
 "nbformat_minor": 2
}
