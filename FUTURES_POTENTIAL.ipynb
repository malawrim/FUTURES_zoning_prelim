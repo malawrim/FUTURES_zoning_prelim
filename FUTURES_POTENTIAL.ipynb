{
 "cells": [
  {
   "cell_type": "markdown",
   "metadata": {},
   "source": [
    "Run FUTURES_preprocessing prior to running this script"
   ]
  },
  {
   "cell_type": "code",
   "execution_count": null,
   "metadata": {},
   "outputs": [],
   "source": [
    "# Set up GRASS environment\n",
    "import os\n",
    "from IPython.display import Image\n",
    "from helper import show_interactively, show\n",
    "import grass.script as gs\n",
    "import csv\n",
    "# had to add shell = True to helper.py for this to work\n",
    "from helper import initialize_GRASS_notebook\n",
    "initialize_GRASS_notebook(binary='grass83',\n",
    "                          grassdata=\"D:\\\\grassdata\", location=\"FUTURES_zoning_prelim\",\n",
    "                          mapset=\"input\")"
   ]
  },
  {
   "cell_type": "code",
   "execution_count": null,
   "metadata": {},
   "outputs": [],
   "source": [
    "train_years = [2001, 2004, 2006, 2008, 2011]\n",
    "validate_years = [2013, 2016, 2019, 2021]\n",
    "# scenarios\n",
    "# core district zones\n",
    "core_district = 'dist_to_mixeduse_km,dist_to_nonresidential_km,dist_to_residential_km'\n",
    "# sub-district zones\n",
    "sub_district = 'dist_to_downtown_km,dist_to_planned_dev_km,dist_to_commercial_km,dist_to_industrial_km,dist_to_low_den_residential_km,dist_to_high_den_residential_km'\n",
    "\n",
    "# without zoning\n",
    "parameters = 'devpressure_30_05_01_2001,slope,road_dens_perc,forest_2001_smooth_perc,dist_to_water_km,dist_to_protected_km,dist_to_city_boundaries_km'\n",
    "# with zoning - core\n",
    "core_parameters = \",\".join([parameters, core_district])\n",
    "# with zoning - sub\n",
    "sub_parameters = \",\".join([parameters, sub_district])\n",
    "# with core and sub zoning districts\n",
    "all_parameters = \",\".join([parameters, core_district, sub_district])\n",
    "# development change raster\n",
    "developed = 'urban_change_01_11'\n",
    "\n",
    "# subregions\n",
    "subregion = 'sa_counties'"
   ]
  },
  {
   "cell_type": "code",
   "execution_count": 13,
   "metadata": {},
   "outputs": [],
   "source": [
    "# Function to get predictors from potential.csv file\n",
    "# Note: not removing first three columns (ID, Intercept, Devpressure) in this version of the function but do in FUTURES_PGA.ipynb\n",
    "def get_pred(file_name):\n",
    "  file = open(file_name)\n",
    "  csvreader = csv.reader(file)\n",
    "  pred = []\n",
    "  pred = next(csvreader)\n",
    "  file.close()\n",
    "  return pred"
   ]
  },
  {
   "cell_type": "markdown",
   "metadata": {},
   "source": [
    "POTENTIAL without zoning"
   ]
  },
  {
   "cell_type": "code",
   "execution_count": null,
   "metadata": {},
   "outputs": [],
   "source": [
    "gs.run_command('r.futures.potential', flags='d', input='sampling',\n",
    "               output='potential.csv', columns=parameters,\n",
    "               developed_column=developed, subregions_column=subregion, min_variables=6)"
   ]
  },
  {
   "cell_type": "code",
   "execution_count": 14,
   "metadata": {},
   "outputs": [
    {
     "data": {
      "text/plain": [
       "['devpressure_30_05_01_2001',\n",
       " 'slope',\n",
       " 'forest_2001_smooth_perc',\n",
       " 'dist_to_water_km',\n",
       " 'dist_to_mixeduse_km',\n",
       " 'dist_to_nonresidential_km',\n",
       " 'dist_to_residential_km']"
      ]
     },
     "execution_count": 14,
     "metadata": {},
     "output_type": "execute_result"
    }
   ],
   "source": [
    "# get list of predictors from first row in potential.csv\n",
    "pred = get_pred('potential.csv')\n",
    "pred"
   ]
  },
  {
   "cell_type": "code",
   "execution_count": null,
   "metadata": {},
   "outputs": [],
   "source": [
    "gs.run_command('r.futures.potsurface', input='potential.csv', subregions=subregion, output='suitability')\n",
    "gs.run_command('r.colors', map='suitability', color='byr')\n",
    "show('suitability')"
   ]
  },
  {
   "cell_type": "markdown",
   "metadata": {},
   "source": [
    "POTENTIAL with core zoning"
   ]
  },
  {
   "cell_type": "code",
   "execution_count": null,
   "metadata": {},
   "outputs": [],
   "source": [
    "gs.run_command('r.futures.potential', flags='d', input='sampling',\n",
    "               output='potential_core.csv', columns=core_parameters,\n",
    "               developed_column=developed, subregions_column=subregion, min_variables=6)"
   ]
  },
  {
   "cell_type": "code",
   "execution_count": null,
   "metadata": {},
   "outputs": [],
   "source": [
    "gs.run_command('r.futures.potsurface', input='potential_core.csv', subregions=subregion, output='suitability_core')\n",
    "gs.run_command('r.colors', map='suitability_core', color='byr')\n",
    "show('suitability_core')"
   ]
  },
  {
   "cell_type": "markdown",
   "metadata": {},
   "source": [
    "POTENTIAL with sub zoning"
   ]
  },
  {
   "cell_type": "code",
   "execution_count": null,
   "metadata": {},
   "outputs": [],
   "source": [
    "gs.run_command('r.futures.potential', flags='d', input='sampling',\n",
    "               output='potential_sub.csv', columns=sub_parameters,\n",
    "               developed_column=developed, subregions_column=subregion, min_variables=6)"
   ]
  },
  {
   "cell_type": "code",
   "execution_count": null,
   "metadata": {},
   "outputs": [],
   "source": [
    "gs.run_command('r.futures.potsurface', input='potential_sub.csv', subregions=subregion, output='suitability_sub')\n",
    "gs.run_command('r.colors', map='suitability_sub', color='byr')\n",
    "show('suitability_sub')"
   ]
  },
  {
   "cell_type": "markdown",
   "metadata": {},
   "source": [
    "POTENTIAL given core and sub zoning"
   ]
  },
  {
   "cell_type": "code",
   "execution_count": null,
   "metadata": {},
   "outputs": [],
   "source": [
    "gs.run_command('r.futures.potential', flags='d', input='sampling',\n",
    "               output='potential_all.csv', columns=all_parameters,\n",
    "               developed_column=developed, subregions_column=subregion, min_variables=6)"
   ]
  },
  {
   "cell_type": "code",
   "execution_count": null,
   "metadata": {},
   "outputs": [],
   "source": [
    "gs.run_command('r.futures.potsurface', input='potential_all.csv', subregions=subregion, output='suitability_all')\n",
    "gs.run_command('r.colors', map='suitability_all', color='byr')\n",
    "show('suitability_all')"
   ]
  }
 ],
 "metadata": {
  "kernelspec": {
   "display_name": "futures_zoning",
   "language": "python",
   "name": "python3"
  },
  "language_info": {
   "codemirror_mode": {
    "name": "ipython",
    "version": 3
   },
   "file_extension": ".py",
   "mimetype": "text/x-python",
   "name": "python",
   "nbconvert_exporter": "python",
   "pygments_lexer": "ipython3",
   "version": "3.9.5"
  }
 },
 "nbformat": 4,
 "nbformat_minor": 2
}
