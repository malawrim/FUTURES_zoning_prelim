{
 "cells": [
  {
   "cell_type": "code",
   "execution_count": 1,
   "metadata": {},
   "outputs": [
    {
     "data": {
      "text/plain": [
       "<grass.jupyter.setup._JupyterGlobalSession at 0x1c4607ab6a0>"
      ]
     },
     "execution_count": 1,
     "metadata": {},
     "output_type": "execute_result"
    }
   ],
   "source": [
    "# Set up GRASS environment\n",
    "import os\n",
    "import csv\n",
    "from IPython.display import Image\n",
    "from helper import show_interactively, show\n",
    "import grass.script as gs\n",
    "# had to add shell = True to helper.py for this to work\n",
    "from helper import initialize_GRASS_notebook\n",
    "initialize_GRASS_notebook(binary='grass83',\n",
    "                          grassdata=\"D:\\\\grassdata\", location=\"FUTURES_zoning_prelim\",\n",
    "                          mapset=\"input\")"
   ]
  },
  {
   "cell_type": "code",
   "execution_count": 2,
   "metadata": {},
   "outputs": [],
   "source": [
    "import validation"
   ]
  },
  {
   "cell_type": "code",
   "execution_count": 27,
   "metadata": {},
   "outputs": [
    {
     "name": "stderr",
     "output_type": "stream",
     "text": [
      "WARNING: <base> is already the current mapset\n"
     ]
    }
   ],
   "source": [
    "# change to mapset to where appropriate results are (core, sub, or base)\n",
    "# !g.mapset mapset=core\n",
    "# !g.mapset mapset=sub\n",
    "\n",
    "!g.mapset mapset=base\n",
    "# !g.region vector=central_pines_regional_council@input res=30\n",
    "# !r.mask raster=sa_counties@input"
   ]
  },
  {
   "cell_type": "code",
   "execution_count": 18,
   "metadata": {},
   "outputs": [
    {
     "name": "stdout",
     "output_type": "stream",
     "text": [
      "MASK\n"
     ]
    }
   ],
   "source": [
    "# check if mask is in place\n",
    "!g.list mapset=core type=raster pattern=\"MASK\""
   ]
  },
  {
   "cell_type": "code",
   "execution_count": 9,
   "metadata": {},
   "outputs": [
    {
     "name": "stdout",
     "output_type": "stream",
     "text": [
      "Writing reclass.txt\n"
     ]
    }
   ],
   "source": [
    "%%writefile reclass.txt\n",
    "-1 0 = 0\n",
    "1 thru 100 = 1\n",
    "* = 0"
   ]
  },
  {
   "cell_type": "code",
   "execution_count": null,
   "metadata": {},
   "outputs": [],
   "source": [
    "# calculate probabilty rasters"
   ]
  },
  {
   "cell_type": "code",
   "execution_count": null,
   "metadata": {},
   "outputs": [],
   "source": [
    "# reclass each year (step) to a binary\n",
    "for step in range(1,11):\n",
    "  for seed in range(1, 51):\n",
    "      gs.run_command(\n",
    "          \"r.reclass\",\n",
    "          input=f\"step_run{seed}_{step}\",\n",
    "          output=f\"step_run{seed}_{step}_binary\",\n",
    "          rules=\"reclass.txt\",\n",
    "      )\n",
    "  # compute probabilty of development for each year\n",
    "  gs.run_command(\n",
    "      \"r.series\",\n",
    "      input=[f\"step_run{seed}_{step}_binary\" for seed in range(1, 51)],\n",
    "      output=\"probability\",\n",
    "      method=\"sum\",\n",
    "      weights=[0.1] * 10,\n",
    "      nprocs=2,\n",
    "  )"
   ]
  },
  {
   "cell_type": "code",
   "execution_count": 22,
   "metadata": {},
   "outputs": [],
   "source": [
    "# to get hits, misses, etc.\n",
    "import json\n",
    "metrics_base = []\n",
    "n = 50\n",
    "# !r.mask masking_2019  --o\n",
    "for i in range(1, n + 1):\n",
    "    !r.reclass input=final_run{i} output=final_run{i}_reclass rules=reclass.txt --o\n",
    "    cats, results = validation.compute('urban_2021@input', f'final_run{i}_reclass', 'urban_2001@input')\n",
    "    metrics_base.append(validation.print_results('json', cats, **results))\n",
    "# "
   ]
  },
  {
   "cell_type": "code",
   "execution_count": 37,
   "metadata": {},
   "outputs": [
    {
     "name": "stderr",
     "output_type": "stream",
     "text": [
      "WARNING: Concurrent mapset locking is not supported on Windows\n",
      "Mapset switched. Your shell continues to use the history for the old mapset\n"
     ]
    }
   ],
   "source": [
    "# !g.mapset mapset=core\n",
    "# !g.mapset mapset=sub\n",
    "# !g.mapset mapset=base"
   ]
  },
  {
   "cell_type": "code",
   "execution_count": 38,
   "metadata": {},
   "outputs": [],
   "source": [
    "# computing probabilty for final year (2021) \n",
    "# doesn't work with nprocs\n",
    "# removed ,weights=[0.02] * 50,\n",
    "gs.run_command(\n",
    "    \"r.series\",\n",
    "    input=[f\"final_run{seed}_reclass\" for seed in range(1, 51)],\n",
    "    output=\"probability\",\n",
    "    method=\"sum\"\n",
    ")"
   ]
  },
  {
   "cell_type": "code",
   "execution_count": null,
   "metadata": {},
   "outputs": [],
   "source": [
    "# validation.compute replaces gs.read_command('r.futures.validation', simulated=f'final_run{i}_reclass', reference='urban_2021@input', original='urban_2001@input', format='json'))"
   ]
  },
  {
   "cell_type": "code",
   "execution_count": 15,
   "metadata": {},
   "outputs": [],
   "source": [
    "# save metrics to pickle file\n",
    "import pickle\n",
    "with open(\"metrics\", \"wb\") as pf:\n",
    "  pickle.dump(metrics, pf)"
   ]
  },
  {
   "cell_type": "code",
   "execution_count": 21,
   "metadata": {},
   "outputs": [],
   "source": [
    "# save metrics to pickle file\n",
    "import pickle\n",
    "with open(\"metrics_sub\", \"wb\") as pf:\n",
    "  pickle.dump(metrics_sub, pf)"
   ]
  },
  {
   "cell_type": "code",
   "execution_count": 23,
   "metadata": {},
   "outputs": [],
   "source": [
    "# save metrics to pickle file\n",
    "import pickle\n",
    "with open(\"metrics_base\", \"wb\") as pf:\n",
    "  pickle.dump(metrics_base, pf)"
   ]
  },
  {
   "cell_type": "code",
   "execution_count": null,
   "metadata": {},
   "outputs": [],
   "source": [
    "# get info about developed cells per zone"
   ]
  },
  {
   "cell_type": "code",
   "execution_count": null,
   "metadata": {},
   "outputs": [],
   "source": [
    "# can do for each simulation or just for the >50% probability?"
   ]
  }
 ],
 "metadata": {
  "kernelspec": {
   "display_name": "Python 3 (ipykernel)",
   "language": "python",
   "name": "python3"
  },
  "language_info": {
   "codemirror_mode": {
    "name": "ipython",
    "version": 3
   },
   "file_extension": ".py",
   "mimetype": "text/x-python",
   "name": "python",
   "nbconvert_exporter": "python",
   "pygments_lexer": "ipython3",
   "version": "3.9.5"
  }
 },
 "nbformat": 4,
 "nbformat_minor": 2
}
