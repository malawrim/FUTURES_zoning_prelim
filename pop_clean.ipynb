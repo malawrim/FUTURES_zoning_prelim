{
 "cells": [
  {
   "cell_type": "code",
   "execution_count": 1,
   "metadata": {},
   "outputs": [],
   "source": [
    "import pandas as pd\n",
    "import os"
   ]
  },
  {
   "cell_type": "code",
   "execution_count": 8,
   "metadata": {},
   "outputs": [],
   "source": [
    "wd = \"D:\\\\Zoning_Development\\\\input_data\""
   ]
  },
  {
   "cell_type": "code",
   "execution_count": 30,
   "metadata": {},
   "outputs": [],
   "source": [
    "# training years\n",
    "train_years = [2001, 2004, 2006, 2008, 2011]\n",
    "# start year of simulation\n",
    "start = 2012\n",
    "# end year of simulation\n",
    "end = 2021\n",
    "\n",
    "#TODO shouldn't write out - find from raster\n",
    "county_subset = [37, 63, 101, 105, 125, 135, 183]"
   ]
  },
  {
   "cell_type": "code",
   "execution_count": 4,
   "metadata": {},
   "outputs": [],
   "source": [
    "pop = pd.read_csv(os.path.join(wd, \"population.csv\"))"
   ]
  },
  {
   "cell_type": "code",
   "execution_count": 5,
   "metadata": {},
   "outputs": [],
   "source": [
    "pop['fips'] = pop['fips'].astype('string')"
   ]
  },
  {
   "cell_type": "code",
   "execution_count": 6,
   "metadata": {},
   "outputs": [],
   "source": [
    "# '^' indicates start of string so we don't delete 37 in FIPS such as 37037\n",
    "pop = pop.replace('^37', '', regex=True)"
   ]
  },
  {
   "cell_type": "code",
   "execution_count": 7,
   "metadata": {},
   "outputs": [],
   "source": [
    "pop_subset = pop[['fips', 'total', 'year']]"
   ]
  },
  {
   "cell_type": "code",
   "execution_count": 8,
   "metadata": {},
   "outputs": [],
   "source": [
    "# turn back into int\n",
    "pop_subset.loc[:, 'fips'] = pop_subset['fips'].astype('int64')"
   ]
  },
  {
   "cell_type": "code",
   "execution_count": 9,
   "metadata": {},
   "outputs": [],
   "source": [
    "pop_pivot = pop_subset.pivot_table(index = 'year', columns= 'fips', values='total')"
   ]
  },
  {
   "cell_type": "code",
   "execution_count": 13,
   "metadata": {},
   "outputs": [],
   "source": [
    "pop_pivot.loc[start:end, county_subset].to_csv(os.path.join(wd, \"population_projection.csv\"))"
   ]
  },
  {
   "cell_type": "code",
   "execution_count": 16,
   "metadata": {},
   "outputs": [],
   "source": [
    "pop_pivot.loc[train_years, county_subset].to_csv(os.path.join(wd, \"population_trend.csv\"))"
   ]
  }
 ],
 "metadata": {
  "kernelspec": {
   "display_name": "futures_zoning",
   "language": "python",
   "name": "python3"
  },
  "language_info": {
   "codemirror_mode": {
    "name": "ipython",
    "version": 3
   },
   "file_extension": ".py",
   "mimetype": "text/x-python",
   "name": "python",
   "nbconvert_exporter": "python",
   "pygments_lexer": "ipython3",
   "version": "3.9.5"
  }
 },
 "nbformat": 4,
 "nbformat_minor": 2
}
