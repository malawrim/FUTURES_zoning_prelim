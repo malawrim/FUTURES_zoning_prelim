{
 "cells": [
  {
   "cell_type": "markdown",
   "metadata": {},
   "source": [
    "Code snippets from Anna Petrasova - futures_triangle.ipynb and FUTURES_v3 case study.ipynb"
   ]
  },
  {
   "cell_type": "markdown",
   "metadata": {},
   "source": [
    "Start GRASS Session"
   ]
  },
  {
   "cell_type": "code",
   "execution_count": 2,
   "metadata": {},
   "outputs": [],
   "source": [
    "# Imports\n",
    "import os\n",
    "import sys\n",
    "import subprocess\n",
    "from multiprocessing import cpu_count\n",
    "\n",
    "grass_filepath = 'D:\\\\grassdata'\n",
    "location = 'FUTURES_zoning_prelim'\n",
    "\n",
    "# Download and import helper functions\n",
    "# eventually will be replaced by Caitlin's GSoC \n",
    "# !wget -q -O helper.py https://raw.githubusercontent.com/ncsu-landscape-dynamics/futures-model-intro-notebook/main/helper.py"
   ]
  },
  {
   "cell_type": "code",
   "execution_count": 3,
   "metadata": {},
   "outputs": [
    {
     "name": "stdout",
     "output_type": "stream",
     "text": [
      "Couldn't find program: 'bash'\n"
     ]
    }
   ],
   "source": [
    "%%bash\n",
    "ls\n",
    "# wget -q -O helper.py https://raw.githubusercontent.com/ncsu-landscape-dynamics/futures-model-intro-notebook/main/helper.py"
   ]
  },
  {
   "cell_type": "code",
   "execution_count": 4,
   "metadata": {},
   "outputs": [
    {
     "ename": "ModuleNotFoundError",
     "evalue": "No module named 'folium'",
     "output_type": "error",
     "traceback": [
      "\u001b[1;31m---------------------------------------------------------------------------\u001b[0m",
      "\u001b[1;31mModuleNotFoundError\u001b[0m                       Traceback (most recent call last)",
      "\u001b[1;32m<ipython-input-4-4033ef9727ac>\u001b[0m in \u001b[0;36m<module>\u001b[1;34m\u001b[0m\n\u001b[0;32m      9\u001b[0m \u001b[1;33m\u001b[0m\u001b[0m\n\u001b[0;32m     10\u001b[0m \u001b[1;31m# Download and import helper functions\u001b[0m\u001b[1;33m\u001b[0m\u001b[1;33m\u001b[0m\u001b[0m\n\u001b[1;32m---> 11\u001b[1;33m \u001b[1;32mfrom\u001b[0m \u001b[0mhelper\u001b[0m \u001b[1;32mimport\u001b[0m \u001b[0minitialize_GRASS_notebook\u001b[0m\u001b[1;33m,\u001b[0m \u001b[0mshow_interactively\u001b[0m\u001b[1;33m\u001b[0m\u001b[1;33m\u001b[0m\u001b[0m\n\u001b[0m\u001b[0;32m     12\u001b[0m \u001b[1;33m\u001b[0m\u001b[0m\n",
      "\u001b[1;32m~\\Documents\\GitHub\\FUTURES_zoning_prelim\\helper.py\u001b[0m in \u001b[0;36m<module>\u001b[1;34m\u001b[0m\n\u001b[0;32m      4\u001b[0m \u001b[1;32mimport\u001b[0m \u001b[0msys\u001b[0m\u001b[1;33m\u001b[0m\u001b[1;33m\u001b[0m\u001b[0m\n\u001b[0;32m      5\u001b[0m \u001b[1;32mimport\u001b[0m \u001b[0msubprocess\u001b[0m\u001b[1;33m\u001b[0m\u001b[1;33m\u001b[0m\u001b[0m\n\u001b[1;32m----> 6\u001b[1;33m \u001b[1;32mimport\u001b[0m \u001b[0mfolium\u001b[0m\u001b[1;33m\u001b[0m\u001b[1;33m\u001b[0m\u001b[0m\n\u001b[0m\u001b[0;32m      7\u001b[0m \u001b[1;32mimport\u001b[0m \u001b[0mjson\u001b[0m\u001b[1;33m\u001b[0m\u001b[1;33m\u001b[0m\u001b[0m\n\u001b[0;32m      8\u001b[0m \u001b[1;33m\u001b[0m\u001b[0m\n",
      "\u001b[1;31mModuleNotFoundError\u001b[0m: No module named 'folium'"
     ]
    }
   ],
   "source": [
    "# Imports\n",
    "import os\n",
    "import sys\n",
    "import subprocess\n",
    "from multiprocessing import cpu_count\n",
    "\n",
    "grass_filepath = 'D:\\\\grassdata'\n",
    "location = 'FUTURES_zoning_prelim'\n",
    "\n",
    "# Download and import helper functions\n",
    "from helper import initialize_GRASS_notebook, show_interactively\n",
    "\n"
   ]
  },
  {
   "cell_type": "code",
   "execution_count": 35,
   "metadata": {},
   "outputs": [],
   "source": [
    "os.environ['GRASSBIN'] = \"C:\\\\Program Files\\\\GRASS GIS 8.3\\\\scripts\""
   ]
  },
  {
   "cell_type": "code",
   "execution_count": 36,
   "metadata": {},
   "outputs": [
    {
     "name": "stdout",
     "output_type": "stream",
     "text": [
      "cmd: C:\\Program Files\\GRASS GIS 8.3\\scripts --config path\n",
      "out: b''\n",
      "err: b\"'C:\\\\Program' is not recognized as an internal or external command,\\r\\noperable program or batch file.\\r\\n\"\n"
     ]
    },
    {
     "ename": "RuntimeError",
     "evalue": "Cannot find GRASS GIS start script: C:\\Program Files\\GRASS GIS 8.3\\scripts, set the right one using the GRASSBIN environm. variable",
     "output_type": "error",
     "traceback": [
      "\u001b[1;31m---------------------------------------------------------------------------\u001b[0m",
      "\u001b[1;31mRuntimeError\u001b[0m                              Traceback (most recent call last)",
      "\u001b[1;32mc:\\Users\\malawrim\\Documents\\GitHub\\FUTURES_zoning_prelim\\FUTURES.ipynb Cell 7\u001b[0m line \u001b[0;36m1\n\u001b[1;32m----> <a href='vscode-notebook-cell:/c%3A/Users/malawrim/Documents/GitHub/FUTURES_zoning_prelim/FUTURES.ipynb#X12sZmlsZQ%3D%3D?line=0'>1</a>\u001b[0m \u001b[39mfrom\u001b[39;00m \u001b[39mgrass_session\u001b[39;00m \u001b[39mimport\u001b[39;00m Session\n",
      "File \u001b[1;32mc:\\Users\\malawrim\\Anaconda3\\envs\\futures_zoning\\lib\\site-packages\\grass_session\\__init__.py:4\u001b[0m\n\u001b[0;32m      1\u001b[0m \u001b[39m#!/usr/bin/env python\u001b[39;00m\n\u001b[0;32m      2\u001b[0m \u001b[39m# -*- coding: utf-8 -*-\u001b[39;00m\n\u001b[1;32m----> 4\u001b[0m \u001b[39mfrom\u001b[39;00m \u001b[39mgrass_session\u001b[39;00m\u001b[39m.\u001b[39;00m\u001b[39msession\u001b[39;00m \u001b[39mimport\u001b[39;00m (\n\u001b[0;32m      5\u001b[0m     GISBASE,\n\u001b[0;32m      6\u001b[0m     GRASSBIN,\n\u001b[0;32m      7\u001b[0m     Session,\n\u001b[0;32m      8\u001b[0m     TmpSession,\n\u001b[0;32m      9\u001b[0m     clean_grass_path_env,\n\u001b[0;32m     10\u001b[0m     get_grass_bin,\n\u001b[0;32m     11\u001b[0m     get_grass_gisbase,\n\u001b[0;32m     12\u001b[0m     get_platform_name,\n\u001b[0;32m     13\u001b[0m     grass_create,\n\u001b[0;32m     14\u001b[0m     grass_init,\n\u001b[0;32m     15\u001b[0m     set_grass_path_env,\n\u001b[0;32m     16\u001b[0m     write_gisrc,\n\u001b[0;32m     17\u001b[0m )\n\u001b[0;32m     19\u001b[0m version \u001b[39m=\u001b[39m \u001b[39m\"\u001b[39m\u001b[39m0.5\u001b[39m\u001b[39m\"\u001b[39m\n",
      "File \u001b[1;32mc:\\Users\\malawrim\\Anaconda3\\envs\\futures_zoning\\lib\\site-packages\\grass_session\\session.py:519\u001b[0m\n\u001b[0;32m    517\u001b[0m \u001b[39m# set path when importing the library\u001b[39;00m\n\u001b[0;32m    518\u001b[0m GRASSBIN \u001b[39m=\u001b[39m get_grass_bin()\n\u001b[1;32m--> 519\u001b[0m GISBASE \u001b[39m=\u001b[39m get_grass_gisbase(grassbin\u001b[39m=\u001b[39;49mGRASSBIN)\n\u001b[0;32m    520\u001b[0m set_grass_path_env(GISBASE, env\u001b[39m=\u001b[39mos\u001b[39m.\u001b[39menviron, grassbin\u001b[39m=\u001b[39mGRASSBIN)\n\u001b[0;32m    523\u001b[0m \u001b[39mif\u001b[39;00m \u001b[39m__name__\u001b[39m \u001b[39m==\u001b[39m \u001b[39m\"\u001b[39m\u001b[39m__main__\u001b[39m\u001b[39m\"\u001b[39m:\n",
      "File \u001b[1;32mc:\\Users\\malawrim\\Anaconda3\\envs\\futures_zoning\\lib\\site-packages\\grass_session\\session.py:137\u001b[0m, in \u001b[0;36mget_grass_gisbase\u001b[1;34m(grassbin)\u001b[0m\n\u001b[0;32m    129\u001b[0m     \u001b[39mprint\u001b[39m(\u001b[39m\"\u001b[39m\u001b[39merr:\u001b[39m\u001b[39m\"\u001b[39m, err)\n\u001b[0;32m    130\u001b[0m     proc \u001b[39m=\u001b[39m subprocess\u001b[39m.\u001b[39mPopen(\n\u001b[0;32m    131\u001b[0m         cmd,\n\u001b[0;32m    132\u001b[0m         shell\u001b[39m=\u001b[39m\u001b[39mTrue\u001b[39;00m,\n\u001b[1;32m   (...)\u001b[0m\n\u001b[0;32m    135\u001b[0m         stderr\u001b[39m=\u001b[39msubprocess\u001b[39m.\u001b[39mPIPE,\n\u001b[0;32m    136\u001b[0m     )\n\u001b[1;32m--> 137\u001b[0m     \u001b[39mraise\u001b[39;00m \u001b[39mRuntimeError\u001b[39;00m(\n\u001b[0;32m    138\u001b[0m         (\n\u001b[0;32m    139\u001b[0m             \u001b[39m\"\u001b[39m\u001b[39mCannot find GRASS GIS start script: \u001b[39m\u001b[39m{grassbin}\u001b[39;00m\u001b[39m, \u001b[39m\u001b[39m\"\u001b[39m\n\u001b[0;32m    140\u001b[0m             \u001b[39m\"\u001b[39m\u001b[39mset the right one using the GRASSBIN environm. \u001b[39m\u001b[39m\"\u001b[39m\n\u001b[0;32m    141\u001b[0m             \u001b[39m\"\u001b[39m\u001b[39mvariable\u001b[39m\u001b[39m\"\u001b[39m\n\u001b[0;32m    142\u001b[0m         )\u001b[39m.\u001b[39mformat(grassbin\u001b[39m=\u001b[39mgrassbin)\n\u001b[0;32m    143\u001b[0m     )\n\u001b[0;32m    144\u001b[0m gisbase \u001b[39m=\u001b[39m out\u001b[39m.\u001b[39mdecode()\u001b[39m.\u001b[39mstrip()\n\u001b[0;32m    145\u001b[0m \u001b[39mif\u001b[39;00m \u001b[39mnot\u001b[39;00m os\u001b[39m.\u001b[39mpath\u001b[39m.\u001b[39mexists(gisbase):\n",
      "\u001b[1;31mRuntimeError\u001b[0m: Cannot find GRASS GIS start script: C:\\Program Files\\GRASS GIS 8.3\\scripts, set the right one using the GRASSBIN environm. variable"
     ]
    }
   ],
   "source": [
    "from grass_session import Session\n"
   ]
  },
  {
   "cell_type": "code",
   "execution_count": 7,
   "metadata": {},
   "outputs": [
    {
     "name": "stderr",
     "output_type": "stream",
     "text": [
      "'grass' is not recognized as an internal or external command,\n",
      "operable program or batch file.\n"
     ]
    },
    {
     "ename": "FileNotFoundError",
     "evalue": "[WinError 2] The system cannot find the file specified",
     "output_type": "error",
     "traceback": [
      "\u001b[1;31m---------------------------------------------------------------------------\u001b[0m",
      "\u001b[1;31mFileNotFoundError\u001b[0m                         Traceback (most recent call last)",
      "\u001b[1;32mc:\\Users\\malawrim\\Documents\\GitHub\\FUTURES_zoning_prelim\\FUTURES.ipynb Cell 6\u001b[0m line \u001b[0;36m5\n\u001b[0;32m      <a href='vscode-notebook-cell:/c%3A/Users/malawrim/Documents/GitHub/FUTURES_zoning_prelim/FUTURES.ipynb#X11sZmlsZQ%3D%3D?line=2'>3</a>\u001b[0m path \u001b[39m=\u001b[39m os\u001b[39m.\u001b[39mpath\u001b[39m.\u001b[39mjoin(grass_filepath, location, mapset)\n\u001b[0;32m      <a href='vscode-notebook-cell:/c%3A/Users/malawrim/Documents/GitHub/FUTURES_zoning_prelim/FUTURES.ipynb#X11sZmlsZQ%3D%3D?line=3'>4</a>\u001b[0m get_ipython()\u001b[39m.\u001b[39msystem(\u001b[39m'\u001b[39m\u001b[39mgrass \u001b[39m\u001b[39m{mapset}\u001b[39;00m\u001b[39m -c -e\u001b[39m\u001b[39m'\u001b[39m)\n\u001b[1;32m----> <a href='vscode-notebook-cell:/c%3A/Users/malawrim/Documents/GitHub/FUTURES_zoning_prelim/FUTURES.ipynb#X11sZmlsZQ%3D%3D?line=4'>5</a>\u001b[0m initialize_GRASS_notebook(\u001b[39m'\u001b[39;49m\u001b[39mgrass\u001b[39;49m\u001b[39m'\u001b[39;49m, grass_filepath, \u001b[39m'\u001b[39;49m\u001b[39mFUTURES_zoning_prelim\u001b[39;49m\u001b[39m'\u001b[39;49m, \u001b[39m'\u001b[39;49m\u001b[39mtest\u001b[39;49m\u001b[39m'\u001b[39;49m)\n\u001b[0;32m      <a href='vscode-notebook-cell:/c%3A/Users/malawrim/Documents/GitHub/FUTURES_zoning_prelim/FUTURES.ipynb#X11sZmlsZQ%3D%3D?line=5'>6</a>\u001b[0m get_ipython()\u001b[39m.\u001b[39msystem(\u001b[39m'\u001b[39m\u001b[39mg.extension r.sample.category\u001b[39m\u001b[39m'\u001b[39m)\n\u001b[0;32m      <a href='vscode-notebook-cell:/c%3A/Users/malawrim/Documents/GitHub/FUTURES_zoning_prelim/FUTURES.ipynb#X11sZmlsZQ%3D%3D?line=6'>7</a>\u001b[0m get_ipython()\u001b[39m.\u001b[39msystem(\u001b[39m'\u001b[39m\u001b[39mg.extension r.object.geometry\u001b[39m\u001b[39m'\u001b[39m)\n",
      "File \u001b[1;32mc:\\Users\\malawrim\\Documents\\GitHub\\FUTURES_zoning_prelim\\helper.py:13\u001b[0m, in \u001b[0;36minitialize_GRASS_notebook\u001b[1;34m(binary, grassdata, location, mapset)\u001b[0m\n\u001b[0;32m     10\u001b[0m \u001b[39mdef\u001b[39;00m \u001b[39minitialize_GRASS_notebook\u001b[39m(binary, grassdata, location, mapset):\n\u001b[0;32m     11\u001b[0m     \u001b[39m# create GRASS GIS runtime environment\u001b[39;00m\n\u001b[0;32m     12\u001b[0m     sys\u001b[39m.\u001b[39mpath\u001b[39m.\u001b[39mappend(\n\u001b[1;32m---> 13\u001b[0m         subprocess\u001b[39m.\u001b[39;49mcheck_output([binary, \u001b[39m\"\u001b[39;49m\u001b[39m--config\u001b[39;49m\u001b[39m\"\u001b[39;49m, \u001b[39m\"\u001b[39;49m\u001b[39mpython_path\u001b[39;49m\u001b[39m\"\u001b[39;49m], text\u001b[39m=\u001b[39;49m\u001b[39mTrue\u001b[39;49;00m)\u001b[39m.\u001b[39mstrip()\n\u001b[0;32m     14\u001b[0m     )\n\u001b[0;32m     16\u001b[0m     \u001b[39m# do GRASS GIS imports\u001b[39;00m\n\u001b[0;32m     17\u001b[0m     \u001b[39mimport\u001b[39;00m \u001b[39mgrass\u001b[39;00m\u001b[39m.\u001b[39;00m\u001b[39mscript\u001b[39;00m \u001b[39mas\u001b[39;00m \u001b[39mgs\u001b[39;00m\n",
      "File \u001b[1;32mc:\\Users\\malawrim\\Anaconda3\\envs\\futures_zoning\\lib\\subprocess.py:424\u001b[0m, in \u001b[0;36mcheck_output\u001b[1;34m(timeout, *popenargs, **kwargs)\u001b[0m\n\u001b[0;32m    421\u001b[0m         empty \u001b[39m=\u001b[39m \u001b[39mb\u001b[39m\u001b[39m'\u001b[39m\u001b[39m'\u001b[39m\n\u001b[0;32m    422\u001b[0m     kwargs[\u001b[39m'\u001b[39m\u001b[39minput\u001b[39m\u001b[39m'\u001b[39m] \u001b[39m=\u001b[39m empty\n\u001b[1;32m--> 424\u001b[0m \u001b[39mreturn\u001b[39;00m run(\u001b[39m*\u001b[39mpopenargs, stdout\u001b[39m=\u001b[39mPIPE, timeout\u001b[39m=\u001b[39mtimeout, check\u001b[39m=\u001b[39m\u001b[39mTrue\u001b[39;00m,\n\u001b[0;32m    425\u001b[0m            \u001b[39m*\u001b[39m\u001b[39m*\u001b[39mkwargs)\u001b[39m.\u001b[39mstdout\n",
      "File \u001b[1;32mc:\\Users\\malawrim\\Anaconda3\\envs\\futures_zoning\\lib\\subprocess.py:505\u001b[0m, in \u001b[0;36mrun\u001b[1;34m(input, capture_output, timeout, check, *popenargs, **kwargs)\u001b[0m\n\u001b[0;32m    502\u001b[0m     kwargs[\u001b[39m'\u001b[39m\u001b[39mstdout\u001b[39m\u001b[39m'\u001b[39m] \u001b[39m=\u001b[39m PIPE\n\u001b[0;32m    503\u001b[0m     kwargs[\u001b[39m'\u001b[39m\u001b[39mstderr\u001b[39m\u001b[39m'\u001b[39m] \u001b[39m=\u001b[39m PIPE\n\u001b[1;32m--> 505\u001b[0m \u001b[39mwith\u001b[39;00m Popen(\u001b[39m*\u001b[39mpopenargs, \u001b[39m*\u001b[39m\u001b[39m*\u001b[39mkwargs) \u001b[39mas\u001b[39;00m process:\n\u001b[0;32m    506\u001b[0m     \u001b[39mtry\u001b[39;00m:\n\u001b[0;32m    507\u001b[0m         stdout, stderr \u001b[39m=\u001b[39m process\u001b[39m.\u001b[39mcommunicate(\u001b[39minput\u001b[39m, timeout\u001b[39m=\u001b[39mtimeout)\n",
      "File \u001b[1;32mc:\\Users\\malawrim\\Anaconda3\\envs\\futures_zoning\\lib\\subprocess.py:951\u001b[0m, in \u001b[0;36mPopen.__init__\u001b[1;34m(self, args, bufsize, executable, stdin, stdout, stderr, preexec_fn, close_fds, shell, cwd, env, universal_newlines, startupinfo, creationflags, restore_signals, start_new_session, pass_fds, user, group, extra_groups, encoding, errors, text, umask)\u001b[0m\n\u001b[0;32m    947\u001b[0m         \u001b[39mif\u001b[39;00m \u001b[39mself\u001b[39m\u001b[39m.\u001b[39mtext_mode:\n\u001b[0;32m    948\u001b[0m             \u001b[39mself\u001b[39m\u001b[39m.\u001b[39mstderr \u001b[39m=\u001b[39m io\u001b[39m.\u001b[39mTextIOWrapper(\u001b[39mself\u001b[39m\u001b[39m.\u001b[39mstderr,\n\u001b[0;32m    949\u001b[0m                     encoding\u001b[39m=\u001b[39mencoding, errors\u001b[39m=\u001b[39merrors)\n\u001b[1;32m--> 951\u001b[0m     \u001b[39mself\u001b[39;49m\u001b[39m.\u001b[39;49m_execute_child(args, executable, preexec_fn, close_fds,\n\u001b[0;32m    952\u001b[0m                         pass_fds, cwd, env,\n\u001b[0;32m    953\u001b[0m                         startupinfo, creationflags, shell,\n\u001b[0;32m    954\u001b[0m                         p2cread, p2cwrite,\n\u001b[0;32m    955\u001b[0m                         c2pread, c2pwrite,\n\u001b[0;32m    956\u001b[0m                         errread, errwrite,\n\u001b[0;32m    957\u001b[0m                         restore_signals,\n\u001b[0;32m    958\u001b[0m                         gid, gids, uid, umask,\n\u001b[0;32m    959\u001b[0m                         start_new_session)\n\u001b[0;32m    960\u001b[0m \u001b[39mexcept\u001b[39;00m:\n\u001b[0;32m    961\u001b[0m     \u001b[39m# Cleanup if the child failed starting.\u001b[39;00m\n\u001b[0;32m    962\u001b[0m     \u001b[39mfor\u001b[39;00m f \u001b[39min\u001b[39;00m \u001b[39mfilter\u001b[39m(\u001b[39mNone\u001b[39;00m, (\u001b[39mself\u001b[39m\u001b[39m.\u001b[39mstdin, \u001b[39mself\u001b[39m\u001b[39m.\u001b[39mstdout, \u001b[39mself\u001b[39m\u001b[39m.\u001b[39mstderr)):\n",
      "File \u001b[1;32mc:\\Users\\malawrim\\Anaconda3\\envs\\futures_zoning\\lib\\subprocess.py:1420\u001b[0m, in \u001b[0;36mPopen._execute_child\u001b[1;34m(self, args, executable, preexec_fn, close_fds, pass_fds, cwd, env, startupinfo, creationflags, shell, p2cread, p2cwrite, c2pread, c2pwrite, errread, errwrite, unused_restore_signals, unused_gid, unused_gids, unused_uid, unused_umask, unused_start_new_session)\u001b[0m\n\u001b[0;32m   1418\u001b[0m \u001b[39m# Start the process\u001b[39;00m\n\u001b[0;32m   1419\u001b[0m \u001b[39mtry\u001b[39;00m:\n\u001b[1;32m-> 1420\u001b[0m     hp, ht, pid, tid \u001b[39m=\u001b[39m _winapi\u001b[39m.\u001b[39;49mCreateProcess(executable, args,\n\u001b[0;32m   1421\u001b[0m                              \u001b[39m# no special security\u001b[39;49;00m\n\u001b[0;32m   1422\u001b[0m                              \u001b[39mNone\u001b[39;49;00m, \u001b[39mNone\u001b[39;49;00m,\n\u001b[0;32m   1423\u001b[0m                              \u001b[39mint\u001b[39;49m(\u001b[39mnot\u001b[39;49;00m close_fds),\n\u001b[0;32m   1424\u001b[0m                              creationflags,\n\u001b[0;32m   1425\u001b[0m                              env,\n\u001b[0;32m   1426\u001b[0m                              cwd,\n\u001b[0;32m   1427\u001b[0m                              startupinfo)\n\u001b[0;32m   1428\u001b[0m \u001b[39mfinally\u001b[39;00m:\n\u001b[0;32m   1429\u001b[0m     \u001b[39m# Child is launched. Close the parent's copy of those pipe\u001b[39;00m\n\u001b[0;32m   1430\u001b[0m     \u001b[39m# handles that only the child should have open.  You need\u001b[39;00m\n\u001b[1;32m   (...)\u001b[0m\n\u001b[0;32m   1433\u001b[0m     \u001b[39m# pipe will not close when the child process exits and the\u001b[39;00m\n\u001b[0;32m   1434\u001b[0m     \u001b[39m# ReadFile will hang.\u001b[39;00m\n\u001b[0;32m   1435\u001b[0m     \u001b[39mself\u001b[39m\u001b[39m.\u001b[39m_close_pipe_fds(p2cread, p2cwrite,\n\u001b[0;32m   1436\u001b[0m                          c2pread, c2pwrite,\n\u001b[0;32m   1437\u001b[0m                          errread, errwrite)\n",
      "\u001b[1;31mFileNotFoundError\u001b[0m: [WinError 2] The system cannot find the file specified"
     ]
    }
   ],
   "source": [
    "# Create new mapset 'test' (locally, will be deleted when connection dies)\n",
    "mapset = 'test'\n",
    "path = os.path.join(grass_filepath, location, mapset)\n",
    "!grass {mapset} -c -e\n",
    "initialize_GRASS_notebook('grass', grass_filepath, 'FUTURES_zoning_prelim', 'test')\n",
    "!g.extension r.sample.category\n",
    "!g.extension r.object.geometry\n",
    "import grass.script as gs\n"
   ]
  },
  {
   "cell_type": "code",
   "execution_count": null,
   "metadata": {},
   "outputs": [],
   "source": [
    "from IPython.display import Image\n",
    "from helper import initialize_GRASS_notebook\n",
    "\n",
    "initialize_GRASS_notebook(binary=\"grass\",\n",
    "                          grassdata=\"~/data/grassdata\", location=\"futures_triangle_nc\",\n",
    "                          mapset=\"jupyter\")\n",
    "\n",
    "\n",
    "import grass.script as gs\n",
    "from helper import show_interactively, show"
   ]
  },
  {
   "cell_type": "code",
   "execution_count": null,
   "metadata": {},
   "outputs": [],
   "source": []
  }
 ],
 "metadata": {
  "kernelspec": {
   "display_name": "Python 3",
   "language": "python",
   "name": "python3"
  },
  "language_info": {
   "codemirror_mode": {
    "name": "ipython",
    "version": 3
   },
   "file_extension": ".py",
   "mimetype": "text/x-python",
   "name": "python",
   "nbconvert_exporter": "python",
   "pygments_lexer": "ipython3",
   "version": "3.9.11"
  }
 },
 "nbformat": 4,
 "nbformat_minor": 2
}
