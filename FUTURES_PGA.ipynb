{
 "cells": [
  {
   "cell_type": "code",
   "execution_count": 1,
   "metadata": {},
   "outputs": [
    {
     "data": {
      "text/plain": [
       "<grass.jupyter.setup._JupyterGlobalSession at 0x25541b66c40>"
      ]
     },
     "execution_count": 1,
     "metadata": {},
     "output_type": "execute_result"
    }
   ],
   "source": [
    "# Set up GRASS environment\n",
    "import os\n",
    "import csv\n",
    "from IPython.display import Image\n",
    "from helper import show_interactively, show\n",
    "import grass.script as gs\n",
    "# had to add shell = True to helper.py for this to work\n",
    "from helper import initialize_GRASS_notebook\n",
    "initialize_GRASS_notebook(binary='grass83',\n",
    "                          grassdata=\"D:\\\\grassdata\", location=\"FUTURES_zoning_prelim\",\n",
    "                          mapset=\"input\")"
   ]
  },
  {
   "cell_type": "code",
   "execution_count": 2,
   "metadata": {},
   "outputs": [],
   "source": [
    "def get_pred(file_name):\n",
    "  file = open(file_name)\n",
    "  csvreader = csv.reader(file)\n",
    "  pred = []\n",
    "  # remove first three columns because they are always ID, Intercept, and devpressure\n",
    "  pred = next(csvreader)[3:]\n",
    "  file.close()\n",
    "  return pred"
   ]
  },
  {
   "cell_type": "code",
   "execution_count": 3,
   "metadata": {},
   "outputs": [
    {
     "name": "stderr",
     "output_type": "stream",
     "text": [
      "WARNING: MASK already exists and will be overwritten\n",
      "All subsequent raster operations will be limited to the MASK area. Removing\n",
      "or renaming raster map named 'MASK' will restore raster operations to\n",
      "normal.\n"
     ]
    }
   ],
   "source": [
    "!g.region vector=central_pines_regional_council@input res=30\n",
    "!r.mask raster=sa_counties@input"
   ]
  },
  {
   "cell_type": "code",
   "execution_count": 17,
   "metadata": {},
   "outputs": [],
   "source": [
    "train_years = [2001, 2004, 2006, 2008, 2011]\n",
    "validate_years = [2013, 2016, 2019, 2021]\n",
    "\n",
    "# subregions\n",
    "subregion = 'sa_counties@input'\n",
    "dev_start = 'urban_2001@input'\n",
    "dev_end = 'urban_2011@input'\n",
    "dev_pressure='devpressure_2011@input'\n",
    "# number of years to simulate after 2011\n",
    "num_year = 10\n",
    "\n",
    "discount_factor = [0.2, 0.5, 0.8]\n",
    "compactness_mean = [0.3, 0.5, 0.8]\n",
    "compactness_range = [0.05, 0.2]\n",
    "\n",
    "# number of CPUs\n",
    "nprocs = 5"
   ]
  },
  {
   "cell_type": "code",
   "execution_count": null,
   "metadata": {},
   "outputs": [],
   "source": [
    "# best for potential no zoning was  0.8\t0.5\t0.2\n",
    "# took 111 mins with 5 repeats and 3 discount factor, 3 mean, 2 range\n",
    "# in calib.csv"
   ]
  },
  {
   "cell_type": "code",
   "execution_count": null,
   "metadata": {},
   "outputs": [],
   "source": [
    "# gamma = the influence of distance between neighboring cells\n",
    "# scaling factor is the same as defined in devpressure"
   ]
  },
  {
   "cell_type": "code",
   "execution_count": null,
   "metadata": {},
   "outputs": [],
   "source": [
    "!r.futures.calib -s development_start=urban_2001 development_end=urban_2019 subregions=subregions num_steps=39 \\\n",
    "predictors=svi_2018,crop_production_average_log,dist_to_forest_2019_log,dist_to_roads_2016_log,slope_log,wetland_2019_density_15 \\\n",
    "devpot_params=\"{potential}\" development_pressure=devpressure_noroads_2019_15_10 n_dev_neighbourhood=10 development_pressure_approach=gravity gamma=1.5 scaling_factor=1 \\\n",
    "demand=\"{demand}\" seed_search=probability num_neighbors=4 random_seed=1 \\\n",
    "patch_threshold=1800 discount_factor=0.5,0.8,1 compactness_mean=0,0.2,0.4,0.6,0.8,1 compactness_range=0.05,0.2  patch_sizes=\"{patch_sizes}\" repeat=10 nprocs=20 calib_results=\"{calibration}\" --o"
   ]
  },
  {
   "cell_type": "markdown",
   "metadata": {},
   "source": [
    "\"Calibration is achieved by varying the values specified in compactness_mean and compactness_range and comparing the distribution of the simulated patch compactness (computed as patch perimeter / (2 * sqrt(pi * area))) to those observed for the reference period. Meentemeyer et al. 2013 used mean 0.4 and range 0.08.\""
   ]
  },
  {
   "cell_type": "code",
   "execution_count": 6,
   "metadata": {},
   "outputs": [],
   "source": [
    "def calibrate(potential, demand, calib, patches, rep):\n",
    "  predictors = '@input,'.join(get_pred(potential))\n",
    "  gs.run_command('r.futures.calib', development_start=dev_start, development_end=dev_end, num_steps=num_year,\n",
    "               subregions=subregion, patch_sizes=patches, patch_threshold=1800, flags='s',\n",
    "               repeat=rep, calibration_results=calib, nprocs=nprocs,\n",
    "               predictors=predictors,\n",
    "               devpot_params=potential, development_pressure=dev_pressure,\n",
    "               n_dev_neighbourhood=37, development_pressure_approach='gravity', gamma=0.5, scaling_factor=0.1,\n",
    "               demand=demand, discount_factor=discount_factor, compactness_mean=compactness_mean,\n",
    "               compactness_range=compactness_range, num_neighbors=4, seed_search='probability', random_seed=1, overwrite=True)"
   ]
  },
  {
   "cell_type": "markdown",
   "metadata": {},
   "source": [
    "calibrate depending on parameters"
   ]
  },
  {
   "cell_type": "code",
   "execution_count": null,
   "metadata": {},
   "outputs": [],
   "source": [
    "#TODO do I need to re-calibrate for each variation of potential?"
   ]
  },
  {
   "cell_type": "code",
   "execution_count": 6,
   "metadata": {},
   "outputs": [],
   "source": [
    "# no zoning\n",
    "calibrate('potential.csv', 'demand.csv', 'calib.csv', 'patches.csv', 5)\n",
    "# core zoning\n",
    "calibrate('potential_core.csv', 'demand.csv', 'calib_core.csv', 'patches_core.csv', 5)\n",
    "# sub zoning\n",
    "calibrate('potential_sub.csv', 'demand.csv', 'calib_sub.csv', 'patches_sub.csv', 5)\n",
    "# all parameters\n",
    "# calibrate('potential_all.csv', 'demand.csv', 'calib_all.csv', 'patches_all.csv', 5)"
   ]
  },
  {
   "cell_type": "markdown",
   "metadata": {},
   "source": [
    "Run Simulation"
   ]
  },
  {
   "cell_type": "code",
   "execution_count": null,
   "metadata": {},
   "outputs": [],
   "source": [
    "# instead of running parallelpga could use Anna's method of running r.futures.simulation for each county and then patching together\n",
    "# from: https://github.com/ncsu-geoforall-lab/grass-workshop-gis-week-2023/blob/main/02_FUTURES_case_study.ipynb"
   ]
  },
  {
   "cell_type": "code",
   "execution_count": 91,
   "metadata": {},
   "outputs": [
    {
     "name": "stdout",
     "output_type": "stream",
     "text": [
      "Overwriting simulation.py\n"
     ]
    }
   ],
   "source": [
    "%%writefile simulation.py\n",
    "import sys\n",
    "import grass.script as gs\n",
    "import csv\n",
    "\n",
    "# mapset, potential, predictors = sys.argv[1:4]\n",
    "mapset, potential = sys.argv[1:3]\n",
    "gs.run_command(\"g.mapset\", mapset=mapset, flags='c')\n",
    "gs.run_command(\"g.mapsets\", mapset=\"input\", operation=\"add\")\n",
    "gs.run_command(\"g.region\", vector=\"central_pines_regional_council@input\", res=30)\n",
    "gs.run_command(\"r.mask\", raster=\"sa_counties@input\", overwrite=True)\n",
    "calib = \"C:\\\\Users\\\\malawrim\\\\Documents\\\\GitHub\\\\FUTURES_zoning_prelim\\\\calib.csv\"\n",
    "with open(calib) as f:\n",
    "  disc_factor, comp_mean, comp_range = f.readlines()[1].split(',')[:3]\n",
    "\n",
    "# potential = \"C:\\\\Users\\\\malawrim\\\\Documents\\\\GitHub\\\\FUTURES_zoning_prelim\\\\potential_core.csv\"\n",
    "# predictors = [\"ag_2001_smooth_perc@input\",\"dist_to_mixeduse_km@input\",\"dist_to_nonresidential_km@input\",\"dist_to_water_2001_km@input\",\"road_dens_perc@input\",\"slope@input\"]\n",
    "def get_pred(file_name):\n",
    "  file = open(file_name)\n",
    "  csvreader = csv.reader(file)\n",
    "  pred = []\n",
    "  # remove first three columns because they are always ID, Intercept, and devpressure\n",
    "  pred = next(csvreader)[3:]\n",
    "  file.close()\n",
    "  return pred\n",
    "\n",
    "predictors = get_pred(potential)\n",
    "\n",
    "gs.run_command(\n",
    "    \"r.futures.parallelpga\",\n",
    "    subregions='sa_counties@input',\n",
    "    developed='urban_2011@input',\n",
    "    num_steps=10,\n",
    "    predictors=predictors,\n",
    "    devpot_params=potential,\n",
    "    development_pressure='devpressure_2011@input',\n",
    "    n_dev_neighbourhood=37,\n",
    "    development_pressure_approach='gravity',\n",
    "    gamma=0.5,\n",
    "    scaling_factor=0.1,\n",
    "    demand=\"C:\\\\Users\\\\malawrim\\\\Documents\\\\GitHub\\\\FUTURES_zoning_prelim\\\\demand.csv\",\n",
    "    discount_factor=disc_factor,\n",
    "    compactness_mean=comp_mean,\n",
    "    compactness_range=comp_range,\n",
    "    patch_sizes=\"C:\\\\Users\\\\malawrim\\\\Documents\\\\GitHub\\\\FUTURES_zoning_prelim\\\\patches.csv\",\n",
    "    num_neighbors=4,\n",
    "    seed_search='probability',\n",
    "    random_seed=42,\n",
    "    output='test_final',\n",
    "    output_series='test_step',\n",
    "    nprocs=2,\n",
    "    repeat=2,\n",
    "    overwrite=True)\n",
    "gs.run_command(\"r.mask\", flags=\"r\")"
   ]
  },
  {
   "cell_type": "code",
   "execution_count": 90,
   "metadata": {},
   "outputs": [],
   "source": [
    "mapset = 'base'\n",
    "potential = \"C:\\\\Users\\\\malawrim\\\\Documents\\\\GitHub\\\\FUTURES_zoning_prelim\\\\potential_core.csv\"\n",
    "!python simulation.py {mapset} {potential}"
   ]
  },
  {
   "cell_type": "code",
   "execution_count": 92,
   "metadata": {},
   "outputs": [
    {
     "name": "stderr",
     "output_type": "stream",
     "text": [
      "WARNING: <test_pga> is already the current mapset\n",
      "Mapset <input> already in the path\n",
      "Search path not modified\n",
      "All subsequent raster operations will be limited to the MASK area. Removing\n",
      "or renaming raster map named 'MASK' will restore raster operations to\n",
      "normal.\n",
      "Running simulation 2/2\n",
      "Running simulation 1/2\n",
      "Read random seed from random_seed option: 2\n",
      "   0   6  12  18  24  30  36  42  48  54  60  66  72  78  84  90  96 100\n",
      "Raster map <test_step_run2_01> created\n",
      "Raster map <test_step_run2_02> created\n",
      "Raster map <test_step_run2_03> created\n",
      "Raster map <test_step_run2_04> created\n",
      "Raster map <test_step_run2_05> created\n",
      "Raster map <test_step_run2_06> created\n",
      "Raster map <test_step_run2_07> created\n",
      "Raster map <test_step_run2_08> created\n",
      "Raster map <test_step_run2_09> created\n",
      "Raster map <test_step_run2_10> created\n",
      "Raster map <test_final_run2> created\n",
      "Read random seed from random_seed option: 1\n",
      "   0   6  12  18  24  30  36  42  48  54  60  66  72  78  84  90  96 100\n",
      "Raster map <test_step_run1_01> created\n",
      "Raster map <test_step_run1_02> created\n",
      "Raster map <test_step_run1_03> created\n",
      "Raster map <test_step_run1_04> created\n",
      "Raster map <test_step_run1_05> created\n",
      "Raster map <test_step_run1_06> created\n",
      "Raster map <test_step_run1_07> created\n",
      "Raster map <test_step_run1_08> created\n",
      "Raster map <test_step_run1_09> created\n",
      "WARNING: Not enough undeveloped cells in region 105 (requested: 16965791,\n",
      "         available: 591457). Converting all available.\n",
      "WARNING: Too many failed attempts to find a seed for region 105, won't be\n",
      "         able to develop 494959 cells.\n",
      "Raster map <test_step_run1_10> created\n",
      "Raster map <test_final_run1> created\n",
      "Raster MASK removed\n"
     ]
    }
   ],
   "source": [
    "mapset = 'core'\n",
    "# mapset = 'test_pga'\n",
    "potential = \"C:\\\\Users\\\\malawrim\\\\Documents\\\\GitHub\\\\FUTURES_zoning_prelim\\\\potential_core.csv\"\n",
    "!python simulation.py {mapset} {potential}"
   ]
  },
  {
   "cell_type": "code",
   "execution_count": null,
   "metadata": {},
   "outputs": [],
   "source": [
    "mapset = 'sub'\n",
    "potential = \"C:\\\\Users\\\\malawrim\\\\Documents\\\\GitHub\\\\FUTURES_zoning_prelim\\\\potential_sub.csv\"\n",
    "!python simulation.py {mapset} {potential}"
   ]
  },
  {
   "cell_type": "markdown",
   "metadata": {},
   "source": [
    "Pull results for validation"
   ]
  },
  {
   "cell_type": "code",
   "execution_count": null,
   "metadata": {},
   "outputs": [],
   "source": [
    "import validation\n",
    "import json\n",
    "import pickle"
   ]
  },
  {
   "cell_type": "code",
   "execution_count": null,
   "metadata": {},
   "outputs": [],
   "source": [
    "%%writefile reclass.txt\n",
    "-1 0 = 0\n",
    "1 thru 100 = 1\n",
    "* = 0"
   ]
  },
  {
   "cell_type": "code",
   "execution_count": null,
   "metadata": {},
   "outputs": [],
   "source": [
    "def calc_results(mapset, metrics, file):\n",
    "  # to get hits, misses, etc.\n",
    "  !g.mapset mapset=mapset\n",
    "  n = 50\n",
    "  for i in range(1, n + 1):\n",
    "      !r.reclass input=final_run{i} output=final_run{i}_reclass rules=reclass.txt --o\n",
    "      cats, results = validation.compute('urban_2021@input', f'final_run{i}_reclass', 'urban_2001@input')\n",
    "      metrics.append(validation.print_results('json', cats, **results))\n",
    "  # get probabilty raster for 2021\n",
    "  gs.run_command(\n",
    "      \"r.series\",\n",
    "      input=[f\"final_run{seed}_reclass\" for seed in range(1, 51)],\n",
    "      output=\"probability\",\n",
    "      method=\"sum\"\n",
    "  )\n",
    "  with open(file, \"wb\") as pf:\n",
    "    pickle.dump(metrics, pf)"
   ]
  },
  {
   "cell_type": "code",
   "execution_count": null,
   "metadata": {},
   "outputs": [],
   "source": [
    "#TODO decide if I want to store metrics file or just go straight to picke (i.e., write everything to same metrics list)\n",
    "metrics_sub = []\n",
    "calc_results('sub', metrics_sub, \"metrics_sub\")\n",
    "metrics_core = []\n",
    "calc_results('core', metrics_core, \"metrics_core\")\n",
    "metrics_base = []\n",
    "calc_results('base', metrics_base, \"metrics_base\")"
   ]
  },
  {
   "cell_type": "markdown",
   "metadata": {},
   "source": [
    "Patch calibration if you were to calibrate by zoning district"
   ]
  },
  {
   "cell_type": "code",
   "execution_count": null,
   "metadata": {},
   "outputs": [],
   "source": [
    "#TODO calibrate by zones to see how/if patches differ"
   ]
  }
 ],
 "metadata": {
  "kernelspec": {
   "display_name": "Python 3 (ipykernel)",
   "language": "python",
   "name": "python3"
  },
  "language_info": {
   "codemirror_mode": {
    "name": "ipython",
    "version": 3
   },
   "file_extension": ".py",
   "mimetype": "text/x-python",
   "name": "python",
   "nbconvert_exporter": "python",
   "pygments_lexer": "ipython3",
   "version": "3.9.5"
  }
 },
 "nbformat": 4,
 "nbformat_minor": 2
}
